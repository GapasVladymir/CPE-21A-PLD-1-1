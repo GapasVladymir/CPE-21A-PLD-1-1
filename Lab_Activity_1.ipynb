{
  "nbformat": 4,
  "nbformat_minor": 0,
  "metadata": {
    "colab": {
      "provenance": [],
      "authorship_tag": "ABX9TyPmFmcXmo1JVqPp8bj3wdOs",
      "include_colab_link": true
    },
    "kernelspec": {
      "name": "python3",
      "display_name": "Python 3"
    },
    "language_info": {
      "name": "python"
    }
  },
  "cells": [
    {
      "cell_type": "markdown",
      "metadata": {
        "id": "view-in-github",
        "colab_type": "text"
      },
      "source": [
        "<a href=\"https://colab.research.google.com/github/GapasVladymir/CPE-21A-PLD-1-1/blob/main/Lab_Activity_1.ipynb\" target=\"_parent\"><img src=\"https://colab.research.google.com/assets/colab-badge.svg\" alt=\"Open In Colab\"/></a>"
      ]
    },
    {
      "cell_type": "code",
      "source": [
        "#PROBLEM 1\n",
        "n = 20\n",
        "totalnumbers =  n\n",
        "sum = 0\n",
        "average = 0\n",
        "\n",
        "while n>=0:\n",
        "  sum+=n\n",
        "  n-=1\n",
        "print(\"sum =\", sum)\n",
        "\n",
        "average = sum/totalnumbers\n",
        "print(\"average =\", average)"
      ],
      "metadata": {
        "colab": {
          "base_uri": "https://localhost:8080/"
        },
        "id": "7ujaz0dK4-Gj",
        "outputId": "ebad8ba2-0d8a-4af0-d0a8-33322bd8f2cb"
      },
      "execution_count": 10,
      "outputs": [
        {
          "output_type": "stream",
          "name": "stdout",
          "text": [
            "sum = 210\n",
            "average = 10.5\n"
          ]
        }
      ]
    },
    {
      "cell_type": "code",
      "source": [
        "#PROBLEM 2\n",
        "class Student:\n",
        "  def __init__(self, Name, Student_No, Age, School, Course):\n",
        "    self.Name = Name\n",
        "    self.Student_No = Student_No\n",
        "    self.Age = Age\n",
        "    self.School = School\n",
        "    self.Course = Course\n",
        "\n",
        "  def Info(self):\n",
        "    return self.Name + self.Student_No + self.Age + self.School + self.Course\n",
        "\n",
        "Myself = Student(\"Vladymir Gapas,\", \" #202203730,\", \" 18 years old,\", \" CVSU Main, \", \"BSCPE 1-1\")\n",
        "\n",
        "print(\"My student info:\", Myself.Info())"
      ],
      "metadata": {
        "id": "P4wUPjtrnCaz",
        "colab": {
          "base_uri": "https://localhost:8080/"
        },
        "outputId": "9154c018-f130-49f3-f28e-8792587d3ae5"
      },
      "execution_count": null,
      "outputs": [
        {
          "output_type": "stream",
          "name": "stdout",
          "text": [
            "My student info: Vladymir Gapas, #202203730, 18 years old, CVSU Main, BSCPE 1-1\n"
          ]
        }
      ]
    }
  ]
}