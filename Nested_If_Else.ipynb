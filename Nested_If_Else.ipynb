{
  "nbformat": 4,
  "nbformat_minor": 0,
  "metadata": {
    "colab": {
      "provenance": [],
      "authorship_tag": "ABX9TyO4XpOiOBqw0XQIRRJKBlJH",
      "include_colab_link": true
    },
    "kernelspec": {
      "name": "python3",
      "display_name": "Python 3"
    },
    "language_info": {
      "name": "python"
    }
  },
  "cells": [
    {
      "cell_type": "markdown",
      "metadata": {
        "id": "view-in-github",
        "colab_type": "text"
      },
      "source": [
        "<a href=\"https://colab.research.google.com/github/GapasVladymir/CPE-21A-PLD-1-1/blob/main/Nested_If_Else.ipynb\" target=\"_parent\"><img src=\"https://colab.research.google.com/assets/colab-badge.svg\" alt=\"Open In Colab\"/></a>"
      ]
    },
    {
      "cell_type": "code",
      "source": [
        "x=41\n",
        "if x>10:\n",
        "  print(\"above 10\")\n",
        "  if x>20:\n",
        "    print(\"above 20!\")\n",
        "  else:\n",
        "    print(\"not above 20.\")"
      ],
      "metadata": {
        "colab": {
          "base_uri": "https://localhost:8080/"
        },
        "id": "vpW1-wfVpNff",
        "outputId": "b83b78be-0e38-4447-ae35-98c7ef9c3aa8"
      },
      "execution_count": null,
      "outputs": [
        {
          "output_type": "stream",
          "name": "stdout",
          "text": [
            "above 10\n",
            "above 20!\n"
          ]
        }
      ]
    },
    {
      "cell_type": "markdown",
      "source": [
        "Nested If Else"
      ],
      "metadata": {
        "id": "NYd9oyrbXe6j"
      }
    },
    {
      "cell_type": "code",
      "execution_count": null,
      "metadata": {
        "colab": {
          "base_uri": "https://localhost:8080/"
        },
        "id": "khhcCFMqUHkF",
        "outputId": "65ac4fb9-be98-4dd2-c7ec-a600be61a7d0"
      },
      "outputs": [
        {
          "output_type": "stream",
          "name": "stdout",
          "text": [
            "above ten\n",
            "above twenty\n",
            "above thirty\n",
            "above forty\n",
            "below fifty\n"
          ]
        }
      ],
      "source": [
        "x = 41\n",
        "\n",
        "if x>10:\n",
        "  print(\"above ten\")\n",
        "  if x<20:\n",
        "    print(\"below twenty\")\n",
        "  else:\n",
        "    print(\"above twenty\")\n",
        "    if x<30:\n",
        "      print(\"below thirty\")\n",
        "    else:\n",
        "      print(\"above thirty\")\n",
        "      if x<40:\n",
        "        print(\"below forty\")\n",
        "      else:\n",
        "        print(\"above forty\")\n",
        "        if x<50:\n",
        "          print(\"below fifty\")\n",
        "        else:\n",
        "          print(\"above fifty\")\n",
        "else:\n",
        "  print(\"not above ten\")"
      ]
    },
    {
      "cell_type": "code",
      "source": [
        "\n",
        "print(\"Enter a number:\")\n",
        "x = int(input())\n",
        "if x>10:\n",
        "  print(\"above 10\")\n",
        "  if x<20:\n",
        "    print(\"below 20\")\n",
        "  else:\n",
        "    print(\"above 20\")\n",
        "    if x<30:\n",
        "      print(\"below 30\")\n",
        "    else:\n",
        "      print(\"above 30\")\n",
        "      if x<40:\n",
        "        print(\"below 40\")\n",
        "      else:\n",
        "        print(\"above 40\")\n",
        "        if x<50:\n",
        "          print(\"below 50\")\n",
        "        else:\n",
        "          print(\"above 50\")\n",
        "else:\n",
        "  print(\"below 10\")"
      ],
      "metadata": {
        "colab": {
          "base_uri": "https://localhost:8080/"
        },
        "id": "Ho9JrBBwcDui",
        "outputId": "02395ac6-5c64-429c-d0ed-95bff1c1de77"
      },
      "execution_count": null,
      "outputs": [
        {
          "output_type": "stream",
          "name": "stdout",
          "text": [
            "Enter a number:\n",
            "41\n",
            "above 10\n",
            "above 20\n",
            "above 30\n",
            "above 40\n",
            "below 50\n"
          ]
        }
      ]
    },
    {
      "cell_type": "markdown",
      "source": [
        "##Example 1"
      ],
      "metadata": {
        "id": "HX03IFn5h4f7"
      }
    },
    {
      "cell_type": "code",
      "source": [
        "age = int(input(\"Insert Age: \"))\n",
        "if age>=18:\n",
        "  print(\"qualified\")\n",
        "else:\n",
        "  print(\"not qualified\")"
      ],
      "metadata": {
        "colab": {
          "base_uri": "https://localhost:8080/"
        },
        "id": "bnOMpeb6h6gQ",
        "outputId": "f925e981-590e-476e-df20-b59ca7aa7414"
      },
      "execution_count": 133,
      "outputs": [
        {
          "output_type": "stream",
          "name": "stdout",
          "text": [
            "Insert Age:10\n",
            "not qualified\n"
          ]
        }
      ]
    },
    {
      "cell_type": "markdown",
      "source": [
        "##Example 2"
      ],
      "metadata": {
        "id": "RM0kz5wCjkKQ"
      }
    },
    {
      "cell_type": "code",
      "source": [
        "number = float(input(\"Input Number: \"))\n",
        "if number>0:\n",
        "  print(\"Positive\")\n",
        "elif number<0:\n",
        "  print(\"Negative\")\n",
        "else:\n",
        "  print(\"Zero\")"
      ],
      "metadata": {
        "colab": {
          "base_uri": "https://localhost:8080/"
        },
        "id": "hV12IdmzjmBm",
        "outputId": "b94b533f-2047-4151-b0d2-002c65afcb0e"
      },
      "execution_count": 144,
      "outputs": [
        {
          "output_type": "stream",
          "name": "stdout",
          "text": [
            "Input Number: 10.1\n",
            "Positive\n"
          ]
        }
      ]
    },
    {
      "cell_type": "markdown",
      "source": [
        "##Example 3"
      ],
      "metadata": {
        "id": "3l1Sir09kX3E"
      }
    },
    {
      "cell_type": "code",
      "source": [
        "grades = int(input(\"Insert Grade Here: \"))\n",
        "\n",
        "if grades >=75:\n",
        "  print(\"Passed\")\n",
        "if grades < 0:\n",
        "  print(\"Not Accepted\")\n",
        "elif grades == 74:\n",
        "  print(\"Remidial\")\n",
        "elif grades < 74:\n",
        "  print(\"Failed\")\n"
      ],
      "metadata": {
        "colab": {
          "base_uri": "https://localhost:8080/"
        },
        "id": "y_jyy1zAkZkm",
        "outputId": "8500c689-f5a3-4f1f-ae8b-400f17655d54"
      },
      "execution_count": 140,
      "outputs": [
        {
          "output_type": "stream",
          "name": "stdout",
          "text": [
            "Insert Grade Here: 10\n",
            "Failed\n"
          ]
        }
      ]
    }
  ]
}