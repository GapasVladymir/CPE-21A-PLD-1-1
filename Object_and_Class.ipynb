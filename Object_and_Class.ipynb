{
  "nbformat": 4,
  "nbformat_minor": 0,
  "metadata": {
    "colab": {
      "provenance": [],
      "authorship_tag": "ABX9TyMJo3x2DgUZdY5ww0Djj3jF",
      "include_colab_link": true
    },
    "kernelspec": {
      "name": "python3",
      "display_name": "Python 3"
    },
    "language_info": {
      "name": "python"
    }
  },
  "cells": [
    {
      "cell_type": "markdown",
      "metadata": {
        "id": "view-in-github",
        "colab_type": "text"
      },
      "source": [
        "<a href=\"https://colab.research.google.com/github/GapasVladymir/CPE-21A-PLD-1-1/blob/main/Object_and_Class.ipynb\" target=\"_parent\"><img src=\"https://colab.research.google.com/assets/colab-badge.svg\" alt=\"Open In Colab\"/></a>"
      ]
    },
    {
      "cell_type": "code",
      "execution_count": null,
      "metadata": {
        "colab": {
          "base_uri": "https://localhost:8080/"
        },
        "id": "WI4jxTwb1LFV",
        "outputId": "10d04400-73fb-4263-c912-8da23e6b0987"
      },
      "outputs": [
        {
          "output_type": "stream",
          "name": "stdout",
          "text": [
            "My name is Vlad\n",
            "My age is 18\n",
            "Ana\n",
            "20\n"
          ]
        }
      ],
      "source": [
        "#Creating class and object\n",
        "\n",
        "class Person:                         #creating class named as Person\n",
        "  def __init__(self,name,age):\n",
        "    self.name = name\n",
        "    self.age = age\n",
        "\n",
        "person = Person(\"Vlad\",18)            #creating object name person\n",
        "print(\"My name is\",person.name)\n",
        "print(\"My age is\",person.age)\n",
        "\n",
        "class Student(Person):\n",
        "  pass\n",
        "\n",
        "person2 = Student(\"Ana\",20)\n",
        "print(person2.name)\n",
        "print(person2.age)"
      ]
    },
    {
      "cell_type": "code",
      "source": [
        "#Application 1\n",
        "# Write a Python program that computes for the area and perimeter of a rectangle\n",
        "# Use the Shape as parent class\n",
        "# Use Area() and Perimeter () as methods with its attributes length and width\n",
        "# Use Rectangle as child class\n",
        "\n",
        "class Shape:\n",
        "  def __init__(self,length,width):\n",
        "    self.length = length\n",
        "    self.width = width\n",
        "  def Area(self):\n",
        "    return self.length * self.width\n",
        "\n",
        "  def Perimeter(self):\n",
        "    return (self.length + self.width)*2\n",
        "  def display(self):\n",
        "    print(\"The area of a rectangle is\", self.Area())\n",
        "    print(\"The perimeter of a rectangle is\", self.Perimeter())\n",
        "\n",
        "\n",
        "class Rectangle(Shape):\n",
        "  pass\n",
        "\n",
        "rectangle = Shape(10,5)\n",
        "rectangle2 = Rectangle(10,5)\n",
        "\n",
        "rectangle.display()\n",
        "rectangle2.display()"
      ],
      "metadata": {
        "colab": {
          "base_uri": "https://localhost:8080/"
        },
        "id": "mxjQWuC33xS4",
        "outputId": "80f55b94-f185-4b98-943e-683fbe6d6400"
      },
      "execution_count": 1,
      "outputs": [
        {
          "output_type": "stream",
          "name": "stdout",
          "text": [
            "The area of a rectangle is 50\n",
            "The perimeter of a rectangle is 30\n",
            "The area of a rectangle is 50\n",
            "The perimeter of a rectangle is 30\n"
          ]
        }
      ]
    }
  ]
}